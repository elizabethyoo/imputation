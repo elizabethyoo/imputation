{
 "cells": [
  {
   "cell_type": "markdown",
   "id": "82cbc591",
   "metadata": {},
   "source": [
    "# 25-07-07\n",
    "\n",
    "The goal of this notebook is to prototype the process of obtaining minutely summaries from raw accelerometer data collected from the Beiwe app, using the source code of the Oak module in the Forest library, rather than importing it as a package and \"blackboxing\" the intermediate steps. \n",
    "\n"
   ]
  },
  {
   "cell_type": "markdown",
   "id": "ce0b7695",
   "metadata": {},
   "source": [
    "## Virtual Environment Setup\n",
    "\n",
    "A Python virtual environment named `forest_base_env` has been created with Python 3.12.7 and all the required packages from the forest directory.\n",
    "\n",
    "To activate the environment in terminal:\n",
    "```bash\n",
    "source forest_base_env/bin/activate\n",
    "```\n",
    "\n",
    "The forest package is installed in development mode (`-e` flag), so any changes to the source code will be reflected immediately without reinstalling."
   ]
  },
  {
   "cell_type": "code",
   "execution_count": 1,
   "id": "8eaffca8",
   "metadata": {},
   "outputs": [
    {
     "ename": "ModuleNotFoundError",
     "evalue": "No module named 'ssqueezepy'",
     "output_type": "error",
     "traceback": [
      "\u001b[0;31m---------------------------------------------------------------------------\u001b[0m",
      "\u001b[0;31mModuleNotFoundError\u001b[0m                       Traceback (most recent call last)",
      "Cell \u001b[0;32mIn[1], line 13\u001b[0m\n\u001b[1;32m     10\u001b[0m sys\u001b[38;5;241m.\u001b[39mpath\u001b[38;5;241m.\u001b[39mappend(\u001b[38;5;28mstr\u001b[39m(forest_src_path))\n\u001b[1;32m     12\u001b[0m \u001b[38;5;66;03m# Import the oak base module\u001b[39;00m\n\u001b[0;32m---> 13\u001b[0m \u001b[38;5;28;01mimport\u001b[39;00m \u001b[38;5;21;01mforest\u001b[39;00m\u001b[38;5;21;01m.\u001b[39;00m\u001b[38;5;21;01moak\u001b[39;00m\u001b[38;5;21;01m.\u001b[39;00m\u001b[38;5;21;01mbase\u001b[39;00m \u001b[38;5;28;01mas\u001b[39;00m \u001b[38;5;21;01moak_base\u001b[39;00m\n\u001b[1;32m     15\u001b[0m \u001b[38;5;28mprint\u001b[39m(\u001b[38;5;124m\"\u001b[39m\u001b[38;5;124mSuccessfully imported oak_base module\u001b[39m\u001b[38;5;124m\"\u001b[39m)\n\u001b[1;32m     16\u001b[0m \u001b[38;5;28mprint\u001b[39m(\u001b[38;5;124mf\u001b[39m\u001b[38;5;124m\"\u001b[39m\u001b[38;5;124mAvailable functions and classes: \u001b[39m\u001b[38;5;132;01m{\u001b[39;00m[x\u001b[38;5;250m \u001b[39m\u001b[38;5;28;01mfor\u001b[39;00m\u001b[38;5;250m \u001b[39mx\u001b[38;5;250m \u001b[39m\u001b[38;5;129;01min\u001b[39;00m\u001b[38;5;250m \u001b[39m\u001b[38;5;28mdir\u001b[39m(oak_base)\u001b[38;5;250m \u001b[39m\u001b[38;5;28;01mif\u001b[39;00m\u001b[38;5;250m \u001b[39m\u001b[38;5;129;01mnot\u001b[39;00m\u001b[38;5;250m \u001b[39mx\u001b[38;5;241m.\u001b[39mstartswith(\u001b[38;5;124m'\u001b[39m\u001b[38;5;124m_\u001b[39m\u001b[38;5;124m'\u001b[39m)][:\u001b[38;5;241m10\u001b[39m]\u001b[38;5;132;01m}\u001b[39;00m\u001b[38;5;124m\"\u001b[39m)\n",
      "File \u001b[0;32m~/github/elizabethyoo/imputation/forest/src/forest/oak/base.py:26\u001b[0m\n\u001b[1;32m     24\u001b[0m \u001b[38;5;28;01mfrom\u001b[39;00m \u001b[38;5;21;01mscipy\u001b[39;00m\u001b[38;5;21;01m.\u001b[39;00m\u001b[38;5;21;01msignal\u001b[39;00m \u001b[38;5;28;01mimport\u001b[39;00m find_peaks\n\u001b[1;32m     25\u001b[0m \u001b[38;5;28;01mfrom\u001b[39;00m \u001b[38;5;21;01mscipy\u001b[39;00m\u001b[38;5;21;01m.\u001b[39;00m\u001b[38;5;21;01msignal\u001b[39;00m\u001b[38;5;21;01m.\u001b[39;00m\u001b[38;5;21;01mwindows\u001b[39;00m \u001b[38;5;28;01mimport\u001b[39;00m tukey\n\u001b[0;32m---> 26\u001b[0m \u001b[38;5;28;01mfrom\u001b[39;00m \u001b[38;5;21;01mssqueezepy\u001b[39;00m \u001b[38;5;28;01mimport\u001b[39;00m ssq_cwt\n\u001b[1;32m     28\u001b[0m \u001b[38;5;28;01mfrom\u001b[39;00m \u001b[38;5;21;01mforest\u001b[39;00m\u001b[38;5;21;01m.\u001b[39;00m\u001b[38;5;21;01mconstants\u001b[39;00m \u001b[38;5;28;01mimport\u001b[39;00m Frequency\n\u001b[1;32m     29\u001b[0m \u001b[38;5;28;01mfrom\u001b[39;00m \u001b[38;5;21;01mforest\u001b[39;00m\u001b[38;5;21;01m.\u001b[39;00m\u001b[38;5;21;01mutils\u001b[39;00m \u001b[38;5;28;01mimport\u001b[39;00m get_ids\n",
      "\u001b[0;31mModuleNotFoundError\u001b[0m: No module named 'ssqueezepy'"
     ]
    }
   ],
   "source": [
    "import os\n",
    "import sys\n",
    "from pathlib import Path\n",
    "\n",
    "# If using the forest_base_env virtual environment, you can simply import:\n",
    "# import forest.oak.base as oak_base\n",
    "\n",
    "# For development without virtual environment, add forest src to path:\n",
    "forest_src_path = Path(\"../forest/src\").resolve()\n",
    "sys.path.append(str(forest_src_path))\n",
    "\n",
    "# Import the oak base module\n",
    "import forest.oak.base as oak_base\n",
    "\n",
    "print(\"Successfully imported oak_base module\")\n",
    "print(f\"Available functions and classes: {[x for x in dir(oak_base) if not x.startswith('_')][:10]}\")\n"
   ]
  },
  {
   "cell_type": "code",
   "execution_count": null,
   "id": "23f605a7",
   "metadata": {},
   "outputs": [
    {
     "name": "stdout",
     "output_type": "stream",
     "text": [
      "Participant directories found: [PosixPath('/Users/ecyoo/github/elizabethyoo/imputation/raw_beiwe_data/j8soi1xe'), PosixPath('/Users/ecyoo/github/elizabethyoo/imputation/raw_beiwe_data/3j2fdbb'), PosixPath('/Users/ecyoo/github/elizabethyoo/imputation/raw_beiwe_data/7h42nxij'), PosixPath('/Users/ecyoo/github/elizabethyoo/imputation/raw_beiwe_data/behdfa31'), PosixPath('/Users/ecyoo/github/elizabethyoo/imputation/raw_beiwe_data/6ogn9wsa')]\n",
      "/Users/ecyoo/github/elizabethyoo/imputation/metadata/HOPE_paper2_demographics_w_study.csv\n"
     ]
    }
   ],
   "source": [
    "import yaml\n",
    "from pathlib import Path\n",
    "import pandas as pd\n",
    "\n",
    "# Load the configuration file\n",
    "CONFIG_PATH = Path(\"../src/config/HOPE_config.yaml\").resolve()\n",
    "\n",
    "with open(CONFIG_PATH, 'r') as f:\n",
    "    config = yaml.safe_load(f)\n",
    "\n",
    "# print(\"Configuration loaded successfully!\")\n",
    "# print(\"Available configuration sections:\")\n",
    "# for section in config.keys():\n",
    "#     print(f\"  - {section}\")\n",
    "\n",
    "raw_beiwe_data_path = Path(config['raw_beiwe_data_dir']).resolve()\n",
    "metadata_file_path = Path(config['metadata_file']).resolve()\n",
    "\n",
    "# get all participant directories in the raw_beiwe_data_path\n",
    "participant_dirs = [d for d in raw_beiwe_data_path.iterdir() if d.is_dir()]\n",
    "# list the participant directories\n",
    "print(f\"Participant directories found: {participant_dirs}\")\n",
    "test_dir = participant_dirs[0] if participant_dirs else None\n",
    "print(metadata_file_path)\n",
    "\n",
    "metadata_df = pd.read_csv(metadata_file_path)"
   ]
  },
  {
   "cell_type": "code",
   "execution_count": null,
   "id": "f7d0d18d",
   "metadata": {},
   "outputs": [
    {
     "ename": "ModuleNotFoundError",
     "evalue": "No module named 'pandas.io.formats.string'",
     "output_type": "error",
     "traceback": [
      "\u001b[31m---------------------------------------------------------------------------\u001b[39m",
      "\u001b[31mModuleNotFoundError\u001b[39m                       Traceback (most recent call last)",
      "\u001b[36mFile \u001b[39m\u001b[32m~/github/elizabethyoo/imputation/forest_base_env/lib/python3.12/site-packages/IPython/core/formatters.py:770\u001b[39m, in \u001b[36m__call__\u001b[39m\u001b[34m(self, obj)\u001b[39m\n",
      "\u001b[36mFile \u001b[39m\u001b[32m~/github/elizabethyoo/imputation/forest_base_env/lib/python3.12/site-packages/IPython/lib/pretty.py:411\u001b[39m, in \u001b[36mpretty\u001b[39m\u001b[34m(self, obj)\u001b[39m\n",
      "\u001b[36mFile \u001b[39m\u001b[32m~/github/elizabethyoo/imputation/forest_base_env/lib/python3.12/site-packages/IPython/lib/pretty.py:786\u001b[39m, in \u001b[36m_repr_pprint\u001b[39m\u001b[34m(obj, p, cycle)\u001b[39m\n",
      "\u001b[36mFile \u001b[39m\u001b[32m~/github/elizabethyoo/imputation/forest_base_env/lib/python3.12/site-packages/pandas/core/frame.py:1214\u001b[39m, in \u001b[36m__repr__\u001b[39m\u001b[34m(self)\u001b[39m\n",
      "\u001b[36mFile \u001b[39m\u001b[32m~/github/elizabethyoo/imputation/forest_base_env/lib/python3.12/site-packages/pandas/util/_decorators.py:333\u001b[39m, in \u001b[36mwrapper\u001b[39m\u001b[34m(*args, **kwargs)\u001b[39m\n",
      "\u001b[36mFile \u001b[39m\u001b[32m~/github/elizabethyoo/imputation/forest_base_env/lib/python3.12/site-packages/pandas/core/frame.py:1394\u001b[39m, in \u001b[36mto_string\u001b[39m\u001b[34m(self, buf, columns, col_space, header, index, na_rep, formatters, float_format, sparsify, index_names, justify, max_rows, max_cols, show_dimensions, decimal, line_width, min_rows, max_colwidth, encoding)\u001b[39m\n",
      "\u001b[36mFile \u001b[39m\u001b[32m~/github/elizabethyoo/imputation/forest_base_env/lib/python3.12/site-packages/pandas/io/formats/format.py:959\u001b[39m, in \u001b[36mto_string\u001b[39m\u001b[34m(self, buf, encoding, line_width)\u001b[39m\n",
      "\u001b[31mModuleNotFoundError\u001b[39m: No module named 'pandas.io.formats.string'"
     ]
    },
    {
     "ename": "ModuleNotFoundError",
     "evalue": "No module named 'pandas.io.formats.html'",
     "output_type": "error",
     "traceback": [
      "\u001b[31m---------------------------------------------------------------------------\u001b[39m",
      "\u001b[31mModuleNotFoundError\u001b[39m                       Traceback (most recent call last)",
      "\u001b[36mFile \u001b[39m\u001b[32m~/github/elizabethyoo/imputation/forest_base_env/lib/python3.12/site-packages/IPython/core/formatters.py:406\u001b[39m, in \u001b[36m__call__\u001b[39m\u001b[34m(self, obj)\u001b[39m\n",
      "\u001b[36mFile \u001b[39m\u001b[32m~/github/elizabethyoo/imputation/forest_base_env/lib/python3.12/site-packages/pandas/core/frame.py:1256\u001b[39m, in \u001b[36m_repr_html_\u001b[39m\u001b[34m(self)\u001b[39m\n",
      "\u001b[36mFile \u001b[39m\u001b[32m~/github/elizabethyoo/imputation/forest_base_env/lib/python3.12/site-packages/pandas/io/formats/format.py:922\u001b[39m, in \u001b[36mto_html\u001b[39m\u001b[34m(self, buf, encoding, classes, notebook, border, table_id, render_links)\u001b[39m\n",
      "\u001b[31mModuleNotFoundError\u001b[39m: No module named 'pandas.io.formats.html'"
     ]
    }
   ],
   "source": [
    "metadata_df.head(10)"
   ]
  },
  {
   "cell_type": "code",
   "execution_count": null,
   "id": "83592c8f",
   "metadata": {},
   "outputs": [],
   "source": [
    "test_study_folder = test_dir\n",
    "test_output_folder = Path(config['raw_beiwe_data_dir']).resolve()\n",
    "tz_str = \"America/New_York\",\n",
    "frequency: Frequency = Frequency.DAILY,\n",
    "time_start: Optional[str] = None\n",
    "time_end: Optional[str] = None,\n",
    "users: ['3j2fdbb']\n",
    "\n",
    "metadata_path = os.path.abspath(os.path.join(CONFIG_DIR, config[\"metadata_path\"]))\n",
    "\n",
    "data_dir = os.path.abspath(os.path.join(CONFIG_DIR, config[\"data_dir\"]))\n",
    "acc_output_folder = \"acc_output\" # name of folder that will be created in data dir\n",
    "acc_output_dir = os.path.abspath(os.path.join(data_dir, acc_output_folder))\n",
    "\n",
    "\n",
    "beiwe_id_df = pd.read_csv(metadata_path)\n",
    "row = beiwe_id_df.iloc[task_id]\n",
    "\n",
    "\n",
    "tz_str = \"America/New_York\"\n",
    "frequency = Frequency.MINUTE\n",
    "\n",
    "# beiwe_ids = [row['beiwe_id']]\n",
    "# # cluster = row['cluster_label'].values[0]\n",
    "# print(f\"metadata for subject id {beiwe_ids}: {row}\", flush=True)\n",
    "# run(raw_data_path, acc_output_dir, tz_str, frequency, users = beiwe_ids)\n",
    "# print(f\"finished downloading accelerometer data for {beiwe_ids} to {acc_output_dir}\", flush=True)"
   ]
  }
 ],
 "metadata": {
  "kernelspec": {
   "display_name": "forest_base_env",
   "language": "python",
   "name": "forest_base_env"
  },
  "language_info": {
   "codemirror_mode": {
    "name": "ipython",
    "version": 3
   },
   "file_extension": ".py",
   "mimetype": "text/x-python",
   "name": "python",
   "nbconvert_exporter": "python",
   "pygments_lexer": "ipython3",
   "version": "3.11.8"
  }
 },
 "nbformat": 4,
 "nbformat_minor": 5
}
