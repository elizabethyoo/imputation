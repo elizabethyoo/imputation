{
 "cells": [
  {
   "cell_type": "markdown",
   "id": "82cbc591",
   "metadata": {},
   "source": [
    "# 25-07-07\n",
    "\n",
    "The goal of this notebook is to prototype the process of obtaining minutely summaries from raw accelerometer data collected from the Beiwe app, using the source code of the Oak module in the Forest library, rather than importing it as a package and \"blackboxing\" the intermediate steps. \n",
    "\n"
   ]
  },
  {
   "cell_type": "markdown",
   "id": "ce0b7695",
   "metadata": {},
   "source": [
    "## Virtual Environment Setup\n",
    "\n",
    "A Python virtual environment named `forest_base_env` has been created with Python 3.12.7 and all the required packages from the forest directory.\n",
    "\n",
    "To activate the environment in terminal:\n",
    "```bash\n",
    "source forest_base_env/bin/activate\n",
    "```\n",
    "\n",
    "The forest package is installed in development mode (`-e` flag), so any changes to the source code will be reflected immediately without reinstalling."
   ]
  },
  {
   "cell_type": "code",
   "execution_count": 1,
   "id": "8eaffca8",
   "metadata": {},
   "outputs": [
    {
     "name": "stdout",
     "output_type": "stream",
     "text": [
      "Successfully imported oak_base module\n",
      "Available functions and classes: ['Frequency', 'Optional', 'adjust_bout', 'compute_interpolate_cwt', 'datetime', 'find_continuous_dominant_peaks', 'find_peaks', 'find_walking', 'get_ids', 'get_pp']\n"
     ]
    }
   ],
   "source": [
    "import os\n",
    "import sys\n",
    "from pathlib import Path\n",
    "\n",
    "# If using the forest_base_env virtual environment, you can simply import:\n",
    "# import forest.oak.base as oak_base\n",
    "\n",
    "# For development without virtual environment, add forest src to path:\n",
    "forest_src_path = Path(\"../forest/src\").resolve()\n",
    "sys.path.append(str(forest_src_path))\n",
    "\n",
    "# Import the oak base module\n",
    "import forest.oak.base as oak_base\n",
    "\n",
    "print(\"Successfully imported oak_base module\")\n",
    "print(f\"Available functions and classes: {[x for x in dir(oak_base) if not x.startswith('_')][:10]}\")\n"
   ]
  },
  {
   "cell_type": "code",
   "execution_count": null,
   "id": "23f605a7",
   "metadata": {},
   "outputs": [
    {
     "name": "stdout",
     "output_type": "stream",
     "text": [
      "Configuration loaded successfully!\n",
      "Available configuration sections:\n",
      "  - study_name_to_id\n",
      "  - data_dir\n",
      "  - download_participants_dir\n",
      "  - raw_data_dir\n",
      "  - raw_data_folder\n",
      "  - curr_raw_data_path\n",
      "  - processed_data_dir\n",
      "  - metadata_path\n",
      "  - results_dir\n",
      "  - figs_dir\n"
     ]
    }
   ],
   "source": [
    "import yaml\n",
    "from pathlib import Path\n",
    "\n",
    "# Load the configuration file\n",
    "CONFIG_PATH = Path(\"../src/config/HOPE_config.yaml\").resolve()\n",
    "\n",
    "with open(CONFIG_PATH, 'r') as f:\n",
    "    config = yaml.safe_load(f)\n",
    "\n",
    "# print(\"Configuration loaded successfully!\")\n",
    "# print(\"Available configuration sections:\")\n",
    "# for section in config.keys():\n",
    "#     print(f\"  - {section}\")\n",
    "\n",
    "raw_beiwe_data_path = Path(config['raw_beiwe_data']).resolve()\n",
    "\n",
    "# get all \n"
   ]
  }
 ],
 "metadata": {
  "kernelspec": {
   "display_name": "forest_base_env",
   "language": "python",
   "name": "python3"
  },
  "language_info": {
   "codemirror_mode": {
    "name": "ipython",
    "version": 3
   },
   "file_extension": ".py",
   "mimetype": "text/x-python",
   "name": "python",
   "nbconvert_exporter": "python",
   "pygments_lexer": "ipython3",
   "version": "3.12.7"
  }
 },
 "nbformat": 4,
 "nbformat_minor": 5
}
